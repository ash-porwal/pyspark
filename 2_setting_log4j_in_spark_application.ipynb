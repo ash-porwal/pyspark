{
 "cells": [
  {
   "cell_type": "code",
   "execution_count": 1,
   "metadata": {},
   "outputs": [],
   "source": [
    "from pyspark.sql import SparkSession"
   ]
  },
  {
   "cell_type": "code",
   "execution_count": 2,
   "metadata": {},
   "outputs": [
    {
     "name": "stderr",
     "output_type": "stream",
     "text": [
      "25/02/20 18:19:47 WARN Utils: Your hostname, lenovo resolves to a loopback address: 127.0.1.1; using 192.168.29.125 instead (on interface wlp3s0)\n",
      "25/02/20 18:19:47 WARN Utils: Set SPARK_LOCAL_IP if you need to bind to another address\n",
      "25/02/20 18:19:48 WARN NativeCodeLoader: Unable to load native-hadoop library for your platform... using builtin-java classes where applicable\n"
     ]
    }
   ],
   "source": [
    "spark = SparkSession.builder \\\n",
    "            .appName(\"2_setting_log4j_in_spark_application\") \\\n",
    "            .master(\"local[3]\") \\\n",
    "            .config(\"spark.driver.extraJavaOptions\", \"-Dlog4j.configuration=file:log4j.properties -Dspark.yarn.app.container.log.dir=app-logs -Dlogfile.name=ashish-spark\") \\\n",
    "            .getOrCreate()\n"
   ]
  },
  {
   "cell_type": "markdown",
   "metadata": {},
   "source": [
    "Above, I've added one more config setting when making `SparkSession`  \n",
    "So, when we can this:  \n",
    "```\n",
    ".config(\"spark.driver.extraJavaOptions\", \"-Dlog4j.configuration=file:log4j.properties -Dspark.yarn.app.container.log.dir=app-logs -Dlogfile.name=ashish-spark\")\n",
    "```\n",
    "- you're instructing the Spark driver JVM to use additional system properties at startup.  \n",
    "**These properties include:**\n",
    "    - `-Dlog4j.configuration=file:log4j.properties`\n",
    "    This tells the JVM to load the Log4J configuration from the `log4j.properties` which I made it and set the logging configuration, and **we keep this log4j.properties at the root level of spark application**. This file controls how logging is handled (e.g., where log messages are written).\n",
    "\n",
    "    - `-Dspark.yarn.app.container.log.dir=app-logs`\n",
    "    This sets the directory where log files should be stored. so, it will be the folder name of the logs files In a cluster environment (like YARN), this variable helps in managing log files across containers, but it's also useful locally to define a consistent log directory.\n",
    "\n",
    "    - `-Dlogfile.name=ashish-spark`\n",
    "    This sets a custom property (used in your log4j.properties file) to define the log file name. For example, if your file appender is configured as:\n",
    "    ```\n",
    "    log4j.appender.file.File=${spark.yarn.app.container.log.dir}/${logfile.name}.log\n",
    "    ```\n",
    "\n",
    "**In summary, this configuration ensures that your Spark application uses your custom Log4J settings for logging, allowing you to control where and how logs are written, even when running in a VS Code notebook environment.**\n"
   ]
  },
  {
   "cell_type": "code",
   "execution_count": 3,
   "metadata": {},
   "outputs": [],
   "source": [
    "# importing custom define log4J class, I wrote this class\n",
    "from helpers.logger import Log4J"
   ]
  },
  {
   "cell_type": "code",
   "execution_count": 4,
   "metadata": {},
   "outputs": [],
   "source": [
    "logger = Log4J(spark_session=spark)"
   ]
  },
  {
   "cell_type": "markdown",
   "metadata": {},
   "source": [
    "Now, I can test some print logging statements of Pyspark"
   ]
  },
  {
   "cell_type": "code",
   "execution_count": 5,
   "metadata": {},
   "outputs": [
    {
     "name": "stderr",
     "output_type": "stream",
     "text": [
      "25/02/20 18:19:51 INFO 2_setting_log4j_in_spark_application: First Log\n",
      "25/02/20 18:19:51 INFO 2_setting_log4j_in_spark_application: Last log and stopping spark session\n"
     ]
    }
   ],
   "source": [
    "logger.info(\"First Log\")\n",
    "logger.info(\"Last log and stopping spark session\")"
   ]
  },
  {
   "cell_type": "code",
   "execution_count": 6,
   "metadata": {},
   "outputs": [],
   "source": [
    "spark.stop()"
   ]
  },
  {
   "cell_type": "code",
   "execution_count": null,
   "metadata": {},
   "outputs": [],
   "source": []
  }
 ],
 "metadata": {
  "kernelspec": {
   "display_name": "spark_env",
   "language": "python",
   "name": "python3"
  },
  "language_info": {
   "codemirror_mode": {
    "name": "ipython",
    "version": 3
   },
   "file_extension": ".py",
   "mimetype": "text/x-python",
   "name": "python",
   "nbconvert_exporter": "python",
   "pygments_lexer": "ipython3",
   "version": "3.12.3"
  }
 },
 "nbformat": 4,
 "nbformat_minor": 2
}
